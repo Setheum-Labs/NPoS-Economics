{
 "cells": [
  {
   "cell_type": "markdown",
   "metadata": {},
   "source": [
    "# Parachain Economics V2: \n",
    "### **Author**: Eray Sabancilar\n",
    "### **Last updated**: 04.03.2020\n",
    "\n",
    "In this notebook, we analyze a dynamic microeconomic model of a parachain with a native token using our global variables from the NPoS economics model, namely, inflation & interest rates, as inputs. For a detailed description see:\n",
    "\n",
    "https://hackmd.io/Hfmh_K6ETM2FlKCk9-iLgg?view\n",
    "\n",
    "## V2 \n",
    "\n",
    "In this version, ..."
   ]
  },
  {
   "cell_type": "markdown",
   "metadata": {},
   "source": [
    "### Parameters\n",
    "\n",
    "In our simulation, we use the following set of parameter values.\n",
    "\n",
    "| Parameters                  | Values                               |\n",
    "| --------                    | --------                             | \n",
    "| Era                         | $t=$ 1 day                            |\n",
    "| Total Time                  | $T=$ 20 years                       |\n",
    "| Baumol–Tobin Cost Parameter | $c_{DOT}=$ 1                       |\n",
    "| DOT Price Normalization     | $N_{DOT/USD}$ = 35                  | \n",
    "|Fraction of Total Payouts Financed by Parachains |$f_p=$ 0.6 |\n",
    "|Number of parachains| $N_\\tau$ = 100 |"
   ]
  },
  {
   "cell_type": "markdown",
   "metadata": {},
   "source": [
    "### Import Python Libraries"
   ]
  },
  {
   "cell_type": "code",
   "execution_count": 1,
   "metadata": {},
   "outputs": [],
   "source": [
    "import numpy as np\n",
    "import pandas as pd\n",
    "import matplotlib as mpl\n",
    "import matplotlib.pyplot as plt\n",
    "import random"
   ]
  },
  {
   "cell_type": "markdown",
   "metadata": {},
   "source": [
    "### Parameters"
   ]
  },
  {
   "cell_type": "code",
   "execution_count": 2,
   "metadata": {},
   "outputs": [],
   "source": [
    "# Total time length\n",
    "year = 20\n",
    "T = 365*year\n",
    "\n",
    "# NPoS Parameters\n",
    "# Baumol–Tobin cost parameter\n",
    "c_dot = 1\n",
    "# DOT Price normalization\n",
    "N_P_dot = 35\n",
    "# Fraction of NPoS payouts to be covered by the parachain slot payments\n",
    "f_p = 0.6\n",
    "# Number of parachains allocated in a given period\n",
    "N_p = 100\n",
    "\n",
    "#Token Parameters\n",
    "# Initial Project Valuation in USD\n",
    "V0 = 10*10**6\n",
    "# Initial Token Supply\n",
    "N_tkn = 10**6\n",
    "#Initial Token Price in USD\n",
    "P_tkn_0 = V0/N_tkn\n",
    "\n",
    "# Number of agents\n",
    "N_private = 10\n",
    "N_ico = 2000\n",
    "N_founders = 20\n",
    "N_ecosystem = 50\n",
    "N_rewards = 1\n",
    "N_future_fundraising = 1\n",
    "N_treasury = 2\n",
    "\n",
    "# Number of collators (assuming collators are from ico investors)\n",
    "N_collators = 50\n",
    "\n",
    "# Number of Clients\n",
    "# Number of potential clients from ico investors\n",
    "N_potential_clients = N_ico - N_collators\n",
    "# Number of clients from ico investors at genesis to be selected randomly\n",
    "N_clients_0 = 200\n",
    "\n",
    "# Initial Token Distribution\n",
    "# Private Investors:\n",
    "N_private_tkn = 0.1*N_tkn\n",
    "# Crowdfunding ICO Participants\n",
    "N_ico_tkn = 0.3*N_tkn\n",
    "# Founders & Employee\n",
    "N_founders_tkn = 0.20*N_tkn\n",
    "# Ecosystem Funding\n",
    "N_ecosystem_tkn = 0.1*N_tkn\n",
    "# Rewards to Collators\n",
    "N_rewards_tkn = 0.15*N_tkn\n",
    "# Reserved for Future Fundraising\n",
    "N_future_fundraising_tkn = 0.15*N_tkn\n",
    "# Treasury accounts \n",
    "N_treasury_tkn = 0\n",
    "# N_treasury_dot = (N_private_tkn + N_ico_tkn)*P_tkn_0/P_dot_0 to be calculated later\n",
    "\n",
    "# Revenue, Cost and Profit Parameters\n",
    "collatorFee = 0.02\n",
    "# Service fee in terms of the collator fee\n",
    "f_service = 2\n",
    "serviceFee = f_service*collatorFee\n",
    "# Profit share among the treasury and collators\n",
    "f_profit_collator = 0.5\n",
    "f_profit_treasury = 1 - f_profit_collator\n",
    "# Rewards factor for collators\n",
    "f_reward = 0.5\n",
    "\n",
    "# Parameters for Douglas-Cobb utility function for transaction demands\n",
    "a = 0.8\n",
    "b = 0.2\n",
    "# Transaction demand adjustment parameter\n",
    "beta = 1\n",
    "# Bechmark Utility\n",
    "U_benchmark = 100\n",
    "\n",
    "# Annual opportunity cost of capital\n",
    "r_opp = 0.05\n",
    "# Baumol–Tobin cost parameter\n",
    "c_tnk = 1\n"
   ]
  },
  {
   "cell_type": "markdown",
   "metadata": {},
   "source": [
    "## 1. NPoS Global Variables"
   ]
  },
  {
   "cell_type": "markdown",
   "metadata": {},
   "source": [
    "### 1.1. Import Data from NPoS Economics Model"
   ]
  },
  {
   "cell_type": "code",
   "execution_count": 3,
   "metadata": {},
   "outputs": [],
   "source": [
    "# Import time series data generated from the NPoS Economics model V6\n",
    "r_v6 = np.loadtxt(\"r_v6.csv\", delimiter=\",\")\n",
    "I_v6 = np.loadtxt(\"I_v6.csv\", delimiter=\",\")\n",
    "Y_v6 = np.loadtxt(\"Y_v6.csv\", delimiter=\",\")\n",
    "w_v6 = np.loadtxt(\"w_v6.csv\", delimiter=\",\")\n",
    "\n",
    "# Annual DOT interest rate\n",
    "r_dot = r_v6[:,5]\n",
    "# Annual DOT inflation rate\n",
    "I_dot = I_v6\n",
    "# Daily DOT total payouts (GDP)\n",
    "Y_dot = Y_v6\n",
    "# DOT money supply\n",
    "M_dot = w_v6"
   ]
  },
  {
   "cell_type": "markdown",
   "metadata": {},
   "source": [
    "### 1.2. DOT Price"
   ]
  },
  {
   "cell_type": "code",
   "execution_count": 4,
   "metadata": {},
   "outputs": [],
   "source": [
    "def dotPrice(T, c_dot, Y_dot, I_dot, r_dot, M_dot, N_P_dot):\n",
    "    # Define a unit vector of size T+1\n",
    "    idT = np.ones((1,T+1))\n",
    "    # Cumulative inflation\n",
    "    Inf_dot = np.cumprod((idT + I_dot/365))\n",
    "    # Calculate real income\n",
    "    Y_dotReal = np.ndarray.flatten(np.multiply(Y_dot,1/Inf_dot))\n",
    "    # Calculate money demand\n",
    "    L_dot = np.sqrt(0.5*c_dot*np.multiply(Y_dotReal,365/r_dot))\n",
    "    # Set L_dot[0] to L_dot[1] for continuity in DOT price\n",
    "    L_dot[0] = L_dot[1]\n",
    "    # Calculate DOT price\n",
    "    P_dot = np.multiply(M_dot,1/L_dot)/N_P_dot\n",
    "    return P_dot, Y_dotReal, Inf_dot"
   ]
  },
  {
   "cell_type": "markdown",
   "metadata": {},
   "source": [
    "### 1.3. Polkadot Money Supply"
   ]
  },
  {
   "cell_type": "code",
   "execution_count": 5,
   "metadata": {},
   "outputs": [
    {
     "data": {
      "image/png": "[encoded data removed]",
      "text/plain": [
       "<matplotlib.figure.Figure at 0x107619d68>"
      ]
     },
     "metadata": {},
     "output_type": "display_data"
    }
   ],
   "source": [
    "# Time array\n",
    "t = np.linspace(0, T, T+1)\n",
    "# Time Series of the DOT Money Supply\n",
    "plt.figure(figsize=(10,6))\n",
    "plt.plot(t, M_dot/10**6,\"-r\")\n",
    "plt.title('DOT Money Supply',fontsize=16)\n",
    "plt.xlabel('Number of Days: t',fontsize=16)\n",
    "plt.ylabel('$M_{DOT}$ (Million DOTs)', fontsize=16)\n",
    "plt.xticks(fontsize = 16)\n",
    "plt.yticks(fontsize = 16)\n",
    "plt.savefig('DOT_MoneySupply.pdf')"
   ]
  },
  {
   "cell_type": "markdown",
   "metadata": {},
   "source": [
    "### 1.4. Polkadot Real Income and DOT Price"
   ]
  },
  {
   "cell_type": "code",
   "execution_count": 6,
   "metadata": {},
   "outputs": [],
   "source": [
    "P_dot, Y_dotReal, Inf_dot = dotPrice(T, c_dot, Y_dot, I_dot, r_dot, M_dot, N_P_dot)"
   ]
  },
  {
   "cell_type": "code",
   "execution_count": 7,
   "metadata": {},
   "outputs": [
    {
     "data": {
      "image/png": "[encoded data removed]",
      "text/plain": [
       "<matplotlib.figure.Figure at 0x1077a9550>"
      ]
     },
     "metadata": {},
     "output_type": "display_data"
    }
   ],
   "source": [
    "# Time Series of Real Income in Polkadot\n",
    "plt.figure(figsize=(10,6))\n",
    "plt.plot(t, np.multiply(P_dot,Y_dotReal)/10**(3),\"-r\")\n",
    "plt.title('Daily Real Income in Polkadot (1,000 USD)',fontsize=16)\n",
    "plt.xlabel('Number of Days: t',fontsize=16)\n",
    "plt.ylabel('$Y_{Real}$ (1,000 USD)', fontsize=16)\n",
    "plt.xticks(fontsize = 16)\n",
    "plt.yticks(fontsize = 16)\n",
    "plt.savefig('DOT_RealIncome.pdf')"
   ]
  },
  {
   "cell_type": "code",
   "execution_count": 8,
   "metadata": {},
   "outputs": [
    {
     "data": {
      "image/png": "[encoded data removed]",
      "text/plain": [
       "<matplotlib.figure.Figure at 0x102dbe2e8>"
      ]
     },
     "metadata": {},
     "output_type": "display_data"
    }
   ],
   "source": [
    "# Time Series of DOT Price in USD\n",
    "plt.figure(figsize=(10,6))\n",
    "plt.plot(t, P_dot,\"-r\")\n",
    "plt.title('DOT Price Evolution Based on the Baumol–Tobin Model',fontsize=16)\n",
    "plt.xlabel('Number of Days: t',fontsize=16)\n",
    "plt.ylabel('$P_{DOT}$ (DOT/USD)', fontsize=16)\n",
    "plt.xticks(fontsize = 16)\n",
    "plt.yticks(fontsize = 16)\n",
    "plt.savefig('DOT_Price.pdf')"
   ]
  },
  {
   "cell_type": "markdown",
   "metadata": {},
   "source": [
    "### 1.5. Parachain Slot Valuation"
   ]
  },
  {
   "cell_type": "code",
   "execution_count": 9,
   "metadata": {},
   "outputs": [],
   "source": [
    "# Parachain Cost\n",
    "def parachainCostDeposit(f_p, N_p, Inf_dot, Y_dotReal, P_dot):\n",
    "    # Preallocate C_p, D_p and data matrices\n",
    "    C_p = np.zeros(4)\n",
    "    D_p = np.zeros(4)\n",
    "    C_p_usd = np.zeros(4)\n",
    "    D_p_usd = np.zeros(4)\n",
    "    data = np.zeros((4,4))\n",
    "    for i in range(0,4):\n",
    "        # Calculate period\n",
    "        tau = (i+1)*180\n",
    "        # Parachain cost in real terms in DOTs\n",
    "        C_p[i] = (f_p/N_p)*np.sum(Y_dotReal[0:tau])\n",
    "        # Parachain cost in USD\n",
    "        C_p_usd[i] = C_p[i]*P_dot[tau]\n",
    "        # Parachain deposit in real terms in DOTs\n",
    "        D_p[i] = np.multiply(C_p[i], 1/(Inf_dot[tau] - 1))\n",
    "        # Parachain deposit in USD\n",
    "        D_p_usd[i] = D_p[i]*P_dot[tau]\n",
    "    # Table of parachain costs and deposits\n",
    "    data[0,:] = C_p\n",
    "    data[1,:] = C_p_usd\n",
    "    data[2,:] = D_p\n",
    "    data[3,:] = D_p_usd\n",
    "    periods = ['6 Months','12 Months','18 Months','24 Months']\n",
    "    df_names = ['Parachain Cost (DOT)','Parachain Cost (USD)','Parachain Deposit (DOT)','Parachain Deposit (USD)']\n",
    "    df_p = pd.DataFrame(data, df_names, periods)\n",
    "    return C_p, D_p, df_p"
   ]
  },
  {
   "cell_type": "code",
   "execution_count": 10,
   "metadata": {},
   "outputs": [
    {
     "data": {
      "text/html": [
       "<div>\n",
       "<style scoped>\n",
       "    .dataframe tbody tr th:only-of-type {\n",
       "        vertical-align: middle;\n",
       "    }\n",
       "\n",
       "    .dataframe tbody tr th {\n",
       "        vertical-align: top;\n",
       "    }\n",
       "\n",
       "    .dataframe thead th {\n",
       "        text-align: right;\n",
       "    }\n",
       "</style>\n",
       "<table border=\"1\" class=\"dataframe\">\n",
       "  <thead>\n",
       "    <tr style=\"text-align: right;\">\n",
       "      <th></th>\n",
       "      <th>6 Months</th>\n",
       "      <th>12 Months</th>\n",
       "      <th>18 Months</th>\n",
       "      <th>24 Months</th>\n",
       "    </tr>\n",
       "  </thead>\n",
       "  <tbody>\n",
       "    <tr>\n",
       "      <th>Parachain Cost (DOT)</th>\n",
       "      <td>452.5</td>\n",
       "      <td>808.6</td>\n",
       "      <td>1157.7</td>\n",
       "      <td>1506.1</td>\n",
       "    </tr>\n",
       "    <tr>\n",
       "      <th>Parachain Cost (USD)</th>\n",
       "      <td>43504.4</td>\n",
       "      <td>78466.0</td>\n",
       "      <td>114073.5</td>\n",
       "      <td>150905.6</td>\n",
       "    </tr>\n",
       "    <tr>\n",
       "      <th>Parachain Deposit (DOT)</th>\n",
       "      <td>20481.3</td>\n",
       "      <td>20391.2</td>\n",
       "      <td>20250.2</td>\n",
       "      <td>20095.9</td>\n",
       "    </tr>\n",
       "    <tr>\n",
       "      <th>Parachain Deposit (USD)</th>\n",
       "      <td>1969324.8</td>\n",
       "      <td>1978786.7</td>\n",
       "      <td>1995307.5</td>\n",
       "      <td>2013591.4</td>\n",
       "    </tr>\n",
       "  </tbody>\n",
       "</table>\n",
       "</div>"
      ],
      "text/plain": [
       "                          6 Months  12 Months  18 Months  24 Months\n",
       "Parachain Cost (DOT)         452.5      808.6     1157.7     1506.1\n",
       "Parachain Cost (USD)       43504.4    78466.0   114073.5   150905.6\n",
       "Parachain Deposit (DOT)    20481.3    20391.2    20250.2    20095.9\n",
       "Parachain Deposit (USD)  1969324.8  1978786.7  1995307.5  2013591.4"
      ]
     },
     "metadata": {},
     "output_type": "display_data"
    }
   ],
   "source": [
    "C_p, D_p, df_p = parachainCostDeposit(f_p, N_p, Inf_dot, Y_dotReal, P_dot)\n",
    "display(df_p.round(1))"
   ]
  },
  {
   "cell_type": "markdown",
   "metadata": {},
   "source": [
    "## 2. Token Accounts"
   ]
  },
  {
   "cell_type": "markdown",
   "metadata": {},
   "source": [
    "### 2.1. Add Accounts with the Same Number of Tokens"
   ]
  },
  {
   "cell_type": "code",
   "execution_count": 11,
   "metadata": {},
   "outputs": [],
   "source": [
    "# addAccounts adds a number of accounts with the same balances\n",
    "# -> Inputs: \n",
    "# N_add: Number of accounts to be added\n",
    "# w_add_total: Balance of accounts in TKN\n",
    "# <- Output:\n",
    "# A vector of account balances\n",
    "def addAccounts(N_add,w_add_total):\n",
    "    w_add_0 = np.multiply(w_add_total/N_add, np.ones((N_add)))\n",
    "    return w_add_0"
   ]
  },
  {
   "cell_type": "markdown",
   "metadata": {},
   "source": [
    "### 2.2. Initial Wealth Distribution (TKN)"
   ]
  },
  {
   "cell_type": "code",
   "execution_count": 12,
   "metadata": {},
   "outputs": [],
   "source": [
    "# Private Investors\n",
    "w_private_0 = addAccounts(N_private,N_private_tkn)\n",
    "# Crowdfunding ICO Participants\n",
    "w_ico_0 = addAccounts(N_ico,N_ico_tkn)\n",
    "# Founders & Employee\n",
    "w_founders_0 = addAccounts(N_founders,N_founders_tkn) \n",
    "# Ecosystem Accounts\n",
    "w_ecosystem_0 = addAccounts(N_ecosystem,N_ecosystem_tkn)\n",
    "# Rewards Account\n",
    "w_rewards_0 = addAccounts(N_rewards,N_rewards_tkn)\n",
    "# Future Fundraising\n",
    "w_future_fundraising_0 = addAccounts(N_future_fundraising,N_future_fundraising_tkn)\n",
    "# Treasury TKN reserve \n",
    "w_treasury_tkn_0 = addAccounts(1,N_treasury_tkn)\n",
    "# Treasury DOT reserve\n",
    "N_treasury_dot = (N_private_tkn + N_ico_tkn)*P_tkn_0/P_dot[0]\n",
    "w_treasury_dot_0 = addAccounts(1,N_treasury_dot)"
   ]
  },
  {
   "cell_type": "markdown",
   "metadata": {},
   "source": [
    "### 2.3. Selecting Collators and  Initial Clients from the Initial Token Distribution"
   ]
  },
  {
   "cell_type": "code",
   "execution_count": 169,
   "metadata": {},
   "outputs": [],
   "source": [
    "# Create an array of indices for all ico accounts\n",
    "idx_ico = np.array(range(0, N_ico)) \n",
    "# Generate random indices corresponding to collator accounts\n",
    "idx_collators = np.sort(random.sample(range(0, N_ico), N_collators))\n",
    "# Set the remaning indices as potential clients\n",
    "idx_potential_clients = np.delete(idx_ico, idx_collators)\n",
    "# Select indices of clients from potential clients randomly\n",
    "idx_clients = np.sort(np.random.choice(idx_potential_clients, N_clients_0))\n",
    "# Set the remaning indices as passive investors\n",
    "idx_not_passive = np.sort(np.concatenate((idx_collators, idx_clients)))\n",
    "\n",
    "# Bootstrap collators from the initial distribution\n",
    "w_collators_0 = np.take(w_ico_0, idx_collators)\n",
    "# Bootstrap clients from the initial distribution\n",
    "w_clients_0 = np.take(w_ico_0, idx_clients)\n",
    "\n",
    "# Active and passive clients\n",
    "#w_client_pool_0 = np.concatenate((w_clients_0,w_passive_0))"
   ]
  },
  {
   "cell_type": "code",
   "execution_count": 189,
   "metadata": {},
   "outputs": [
    {
     "data": {
      "text/plain": [
       "(1763,)"
      ]
     },
     "execution_count": 189,
     "metadata": {},
     "output_type": "execute_result"
    }
   ],
   "source": [
    "idx_not_passive.shape\n",
    "idx_passive.shape"
   ]
  },
  {
   "cell_type": "code",
   "execution_count": 173,
   "metadata": {},
   "outputs": [
    {
     "data": {
      "text/plain": [
       "1763"
      ]
     },
     "execution_count": 173,
     "metadata": {},
     "output_type": "execute_result"
    }
   ],
   "source": [
    "idx_passive = np.delete(np.array(range(0, N_ico)), idx_not_passive)\n",
    "# Set the initial passive accounts\n",
    "w_passive_0 = np.take(w_ico_0, idx_passive)\n",
    "\n",
    "#idx_not_passive\n",
    "#idx_collators\n",
    "idx_clients\n",
    "#np.sort(np.concatenate((idx_collators, idx_clients)))\n",
    "#len(idx_passive)\n",
    "idx_not_passive.shape[0]\n",
    "#idx_collators.shape[0]\n",
    "#idx_clients.shape[0]\n",
    "idx_not_passive.shape[0]\n",
    "#idx_ico.shape[0]\n",
    "idx_passive.shape[0]"
   ]
  },
  {
   "cell_type": "markdown",
   "metadata": {},
   "source": [
    "## 3. Token Economics"
   ]
  },
  {
   "cell_type": "markdown",
   "metadata": {},
   "source": [
    "### 3.1. Cobb-Douglas Utility Function"
   ]
  },
  {
   "cell_type": "code",
   "execution_count": 14,
   "metadata": {},
   "outputs": [],
   "source": [
    "def cobbDouglas(a, b, N_clients, N_collators):\n",
    "    Ucd = ((1+N_clients)**a)*((N_collators)**b)\n",
    "    return Ucd"
   ]
  },
  {
   "cell_type": "markdown",
   "metadata": {},
   "source": [
    "### 3.2. Service Price Utility Function"
   ]
  },
  {
   "cell_type": "code",
   "execution_count": null,
   "metadata": {},
   "outputs": [],
   "source": [
    "def priceUtility(serviceFee, P_tkn_0, P_tkn):\n",
    "    Up = serviceFee*(P_tkn_0 - P_tkn)\n",
    "    return Up"
   ]
  },
  {
   "cell_type": "markdown",
   "metadata": {},
   "source": [
    "### 3.3. Token Price Model"
   ]
  },
  {
   "cell_type": "code",
   "execution_count": null,
   "metadata": {},
   "outputs": [],
   "source": [
    "def tokenPrice(T, c_tkn, revenues, P_tkn_0, M_tkn, r_opp, Normalization_tkn):\n",
    "    # Define a unit vector of size T+1\n",
    "    idT = np.ones((1,T+1))\n",
    "    # Calculate real income (no inflation, hence equal to nominal)\n",
    "    Y_tkn = revenues\n",
    "    # Calculate money demand\n",
    "    L_tkn = np.sqrt(0.5*c_tkn*np.multiply(Y_tkn,365/r_opp))\n",
    "    # Calculate TKN price\n",
    "    P_tkn = P_tkn_0*Normalization_tkn*np.multiply(M_tkn,1/L_tkn)\n",
    "    return P_tkn"
   ]
  },
  {
   "cell_type": "markdown",
   "metadata": {},
   "source": [
    "### 3.4. The Microeconomic Token Model "
   ]
  },
  {
   "cell_type": "code",
   "execution_count": null,
   "metadata": {},
   "outputs": [],
   "source": [
    "def tokenEconomics(a, b, N_clients, N_collators, N_potential_clients, N_ico\\\n",
    "                   w_collators_0, w_clients_0, w_client_pool_0\\\n",
    "                  collatorFee, serviceFee):\n",
    "    \n",
    "    # Preallocate Variables\n",
    "    # Number of Clients\n",
    "    N_clients = np.zeros((T+1,1))\n",
    "    # Collator Wealth\n",
    "    w_collators = np.zeros((T+1,N_collators))\n",
    "    # Client Wealth\n",
    "    w_clients = np.zeros((T+1,N_potential_clients))\n",
    "    # Treasury TKN account\n",
    "    w_treasury_tkn = np.zeros((T+1,1))\n",
    "    # Treasury DOT account\n",
    "    w_treasury_dot = np.zeros((T+1,1))\n",
    "    # Revenues, Costs and Profits\n",
    "    revenues = np.zeros((T+1,1))\n",
    "    costs = np.zeros((T+1,1))\n",
    "    profits = np.zeros((T+1,1))\n",
    "    # Token price\n",
    "    P_tkn = np.zeros((T+1,1))\n",
    "    \n",
    "    # Private Investors\n",
    "    # w_private = np.zeros((T+1,N_private)) # remains constant in this version\n",
    "    # Founders & Employee\n",
    "    #w_founders = np.zeros((T+1,N_founders)) # remains constant in this version\n",
    "    # Ecosystem Accounts\n",
    "    #w_ecosystem_0 = np.zeros((T+1,N_ecosystem)) # remains constant in this version\n",
    "    # Rewards Account\n",
    "    w_rewards = np.zeros((T+1,N_rewards))\n",
    "    \n",
    "    # Set initial values\n",
    "    N_clients[0] = N_clients_0\n",
    "    w_collators[0,:] = w_collators_0\n",
    "    w_clients[0,0:N_clients_0] = w_clients_0\n",
    "    w_clients[0,N_clients_0+1:N_potential_clients] = w_passive_0\n",
    "    w_treasury_tkn[0] = w_treasury_tkn_0\n",
    "    w_treasury_dot[0] = w_treasury_dot_0\n",
    "    w_rewards[0] = w_rewards_0\n",
    "    P_tkn = P_tkn_0\n",
    "    \n",
    "    # Deposit DOTs to lease the parachain slot for 24 months\n",
    "    w_treasury_dot[0] = w_treasury_dot[0] - D_p[3]\n",
    "    \n",
    "    # Update values of these matrices in time\n",
    "    t = 1\n",
    "    while t <= T:\n",
    "        # Calculate revenues\n",
    "        revenues[t] = np.multiply(N_clients[t-1], serviceFee)\n",
    "        # Calculate costs\n",
    "        costs[t] = np.multiply(N_clients[t-1], collatorFee)\n",
    "        # Calculate profits\n",
    "        profits[t] = revenues[t] - costs[t]\n",
    "        \n",
    "        # Update client accounts\n",
    "        w_clients[t,0:N_clients[t-1]] = w_clients[0,0:N_clients[t-1]] - serviceFee\n",
    "        # Pay collator fees\n",
    "        w_collators[t,:] = w_collators[t-1,:] + collatorFee\n",
    "        \n",
    "        # Update treasury DOT reserve when the next deposit time comes\n",
    "        if np.mod(t/(180*4)) == 0:\n",
    "            # Substract the parachain slot cost at the end of lease periods\n",
    "            w_treasury_dot[t] = w_treasury_tkn[t-1] - C_p[3]\n",
    "        \n",
    "        # Distribute collator share of profits \n",
    "        w_collators[t,:] = w_collators[t,:] + f_profit_collator*profits[t]\n",
    "        # Update treasury TKN reserve\n",
    "        w_treasury_tkn[t] = w_treasury_tkn[t-1] + f_profit_treasury*profits[t]\n",
    "        \n",
    "        # Incentivize collators with rewards\n",
    "        w_collators[t,:] = w_collators[t,:] + f_rewards*w_rewards_0/T\n",
    "        \n",
    "        # Update the number of clients using the dynamic demand model\n",
    "        # Positive client utility from increasing demand\n",
    "        Ucb = cobbDouglas(a, b, N_clients[t-1], N_collators)\n",
    "        # Negative (positive) client utility from increasing (decreasing) token price\n",
    "        Up = priceUtility(serviceFee, P_tkn_0, P_tkn[t-1])\n",
    "        # Total client utility\n",
    "        U = Ucb + Up\n",
    "        # Update number of clients\n",
    "        N_clients[t] = round(N_clients[t-1] + beta*(U - U_benchmark))\n",
    "        \n",
    "        # Calculate new token price based on the real demand\n",
    "        # Money supply\n",
    "        M_tkn = N_tkn\n",
    "        # Calculate money demand at period 1\n",
    "        L_tkn_1 = np.sqrt(0.5*c_tkn*np.multiply(revenue[1],365/r_opp))\n",
    "        # Calculate TKN price normalization to match the initial token price\n",
    "        Normalization_tkn = 1/(np.multiply(N_tkn,1/L_tkn_1))\n",
    "        # Token price at time t\n",
    "        P_tkn[t] = tokenPrice(T, c_tkn, revenues, P_tkn_0, M_tkn, r_opp, Normalization_tkn)\n",
    "        \n",
    "        # Add new clients from the passive accounts if U > U_benchmark\n",
    "        if U > U_benchmark:\n",
    "            idx_new_clients = np.sort(np.random.choice(idx_passive, N_clients[t] - N_clients[t-1]))\n",
    "            # Merge new and old client indices\n",
    "            idx_clients = np.sort(np.concatenate((idx_new_clients,idx_clients)))\n",
    "            # Set the remaning indices as passive investors\n",
    "            idx_not_passive = np.sort(np.concatenate((idx_collators,idx_clients)))\n",
    "            idx_passive = np.delete(idx_ico, idx_not_passive)\n",
    "            # Add new client accounts\n",
    "            w_clients[t] = np.sort(np.concatenate(\n",
    "        \n",
    "        \n",
    "        # Remove clients from client account if U < U_benchmark\n",
    "        if U < U_benchmark:\n",
    "            \n",
    "            \n",
    "            #STOPPED HERE \n",
    "            # Add new clients from the passive accounts if U>U_benchmark\n",
    "            # Remove clients from client account if U< U_benchmark\n",
    "            # Do not make any change if U = U_benchmark\n",
    "            \n",
    "            \n",
    "            # Add new clients from remaning passive accounts randomly\n",
    "            idx_new_clients = np.sort(np.random.choice(idx_passive, N_clients_0))\n",
    "            # Set the remaning indices as passive investors\n",
    "            idx_not_passive = np.sort(np.concatenate((idx_collators,idx_clients)))\n",
    "            idx_passive = np.delete(idx_ico, idx_not_passive)\n",
    "\n",
    "            # Bootstrap collators from the initial distribution\n",
    "            w_collators_0 = np.take(w_ico_0, idx_collators)\n",
    "            # Bootstrap clients from the initial distribution\n",
    "            w_clients_0 = np.take(w_ico_0, idx_clients)\n",
    "            # Set the initial passive accounts\n",
    "            w_passive_0 = np.take(w_ico_0, idx_passive)\n",
    "\n",
    "            \n",
    "            \n",
    "            \n",
    "            # Add new clients from remaning potential clients randomly\n",
    "            idx_clients = np.sort(np.random.choice(idx_potential_clients, N_clients[t]))\n",
    "            # Bootstrap clients from the initial distribution\n",
    "            w_clients_0 = np.take(w_ico_0, idx_clients)\n",
    "        "
   ]
  },
  {
   "cell_type": "code",
   "execution_count": null,
   "metadata": {},
   "outputs": [],
   "source": []
  },
  {
   "cell_type": "code",
   "execution_count": 81,
   "metadata": {},
   "outputs": [
    {
     "ename": "IndexError",
     "evalue": "list index out of range",
     "output_type": "error",
     "traceback": [
      "\u001b[0;31m---------------------------------------------------------------------------\u001b[0m",
      "\u001b[0;31mIndexError\u001b[0m                                Traceback (most recent call last)",
      "\u001b[0;32m<ipython-input-81-dd88a08cbbe1>\u001b[0m in \u001b[0;36m<module>\u001b[0;34m()\u001b[0m\n\u001b[1;32m      1\u001b[0m \u001b[0mg\u001b[0m \u001b[0;34m=\u001b[0m \u001b[0;34m[\u001b[0m\u001b[0;36m1\u001b[0m\u001b[0;34m,\u001b[0m\u001b[0;36m2\u001b[0m\u001b[0;34m,\u001b[0m\u001b[0;36m3\u001b[0m\u001b[0;34m,\u001b[0m\u001b[0;36m4\u001b[0m\u001b[0;34m]\u001b[0m\u001b[0;34m\u001b[0m\u001b[0m\n\u001b[0;32m----> 2\u001b[0;31m \u001b[0mg\u001b[0m\u001b[0;34m[\u001b[0m\u001b[0;36m4\u001b[0m\u001b[0;34m]\u001b[0m\u001b[0;34m\u001b[0m\u001b[0m\n\u001b[0m",
      "\u001b[0;31mIndexError\u001b[0m: list index out of range"
     ]
    }
   ],
   "source": [
    "g = [1,2,3,4]\n",
    "g[4]"
   ]
  },
  {
   "cell_type": "code",
   "execution_count": 91,
   "metadata": {},
   "outputs": [
    {
     "data": {
      "text/plain": [
       "1763"
      ]
     },
     "execution_count": 91,
     "metadata": {},
     "output_type": "execute_result"
    }
   ],
   "source": [
    "N_clients_0\n",
    "w_passive_0.shape[0]"
   ]
  },
  {
   "cell_type": "code",
   "execution_count": 95,
   "metadata": {},
   "outputs": [
    {
     "data": {
      "text/plain": [
       "50"
      ]
     },
     "execution_count": 95,
     "metadata": {},
     "output_type": "execute_result"
    }
   ],
   "source": [
    "idx_collators.shape[0]"
   ]
  },
  {
   "cell_type": "code",
   "execution_count": 98,
   "metadata": {},
   "outputs": [
    {
     "data": {
      "text/plain": [
       "2000"
      ]
     },
     "execution_count": 98,
     "metadata": {},
     "output_type": "execute_result"
    }
   ],
   "source": [
    "idx_ico.shape[0]"
   ]
  },
  {
   "cell_type": "code",
   "execution_count": null,
   "metadata": {},
   "outputs": [],
   "source": []
  }
 ],
 "metadata": {
  "kernelspec": {
   "display_name": "Python 3",
   "language": "python",
   "name": "python3"
  },
  "language_info": {
   "codemirror_mode": {
    "name": "ipython",
    "version": 3
   },
   "file_extension": ".py",
   "mimetype": "text/x-python",
   "name": "python",
   "nbconvert_exporter": "python",
   "pygments_lexer": "ipython3",
   "version": "3.6.4"
  }
 },
 "nbformat": 4,
 "nbformat_minor": 2
}
