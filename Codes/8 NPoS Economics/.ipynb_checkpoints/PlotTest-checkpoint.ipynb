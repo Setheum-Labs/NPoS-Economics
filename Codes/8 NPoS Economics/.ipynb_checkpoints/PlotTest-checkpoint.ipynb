{
 "cells": [
  {
   "cell_type": "code",
   "execution_count": null,
   "metadata": {},
   "outputs": [],
   "source": [
    "# summaryPlots function produces the time series plots of the staking rate, interest rate and Gini coefficient\n",
    "def summaryPlots(t, x, r, G):\n",
    "    plot_variables = np.zeros(x.shape)\n",
    "    for v in range(0,x.shape[1]):\n",
    "        # Plot variables of each version\n",
    "        plot_variables[:,v] = np.concatenate(x[:,v],r[:,v],G[:,v],axis=1)\n",
    "        version_number = np.array([v+1])\n",
    "        version_name = 'V'+ version_number\n",
    "        plot_titles = ['Staking Rate', 'Annual Interest Rate', 'Gini Coefficient for Wealth Inequality']\n",
    "        y_labels = ['Staking Rate: x(t)','Interest Rate: r(x(t))','Gini Coefficient: G(t)']\n",
    "        for i in range(0,len(plot_titles)):\n",
    "            plt.figure(figsize=(12,6))\n",
    "            plt.plot(t, plot_variables[v],\"-b\",linestyle='-.', label = version_name)\n",
    "            plt.plot(t, plot_variables2[i],\"-r\",linestyle=':', label=\"V2: Staking Stickiness\")\n",
    "            plt.plot(t, plot_variables3[i],\"-y\",linestyle=':', label=\"V3: Stickiness & Slashing\")\n",
    "            plt.plot(t, plot_variables4[i],\"-g\",linestyle='-.', label=\"V4: Staking Stickiness, Slashing & Delegated Validators\")\n",
    "            plt.legend(loc=\"best\",fontsize=10)\n",
    "            plt.title('NPoS Economics: ' + plot_titles[i],fontsize=16)\n",
    "            plt.xlabel('Number of Days: t',fontsize=16)\n",
    "            plt.ylabel(y_labels[i],fontsize=16)\n",
    "            plt.xticks(fontsize = 16)\n",
    "            plt.yticks(fontsize = 16)\n",
    "            plt.savefig(plot_titles[i] + '.pdf')"
   ]
  },
  {
   "cell_type": "code",
   "execution_count": null,
   "metadata": {},
   "outputs": [],
   "source": [
    "# summaryPlots function produces the time series plots of the staking rate, interest rate and Gini coefficient\n",
    "def summaryPlots(t, x, r, G, last_version):\n",
    "    plot_variables = np.zeros(x.shape)\n",
    "    for v in range(0,x.shape[1]):\n",
    "        # Plot variables of each version\n",
    "        plot_variables[:,v] = np.concatenate(x[:,v],r[:,v],G[:,v],axis=1)\n",
    "        version_number = np.array([v+1])\n",
    "        version_name = 'V'+ version_number"
   ]
  },
  {
   "cell_type": "code",
   "execution_count": null,
   "metadata": {},
   "outputs": [],
   "source": [
    "# summaryPlots function produces the time series plots of the staking rate, interest rate and Gini coefficient\n",
    "# for the last 4 versions of the model\n",
    "# Inputs:\n",
    "# t: time\n",
    "# x: staking rate matrix \n",
    "# r: annual interest rate\n",
    "# G: Gini coefficient\n",
    "# Each column of x, r and G correspond to a different version\n",
    "# VersionName: name of the last 4 versions\n",
    "def summaryPlots(t, x, r, G, versionName):\n",
    "    v_last = x.shape[1]\n",
    "    #version_number = np.array([v_last])\n",
    "    #last_version = 'V'+ version_number\n",
    "    plot_titles = ['Staking Rate', 'Annual Interest Rate', 'Gini Coefficient for Wealth Inequality']\n",
    "    y_labels = ['Staking Rate: x(t)','Interest Rate: r(x(t))','Gini Coefficient: G(t)']\n",
    "    for j in range(0, len(plot_titles)):\n",
    "        for i in range(0,4):\n",
    "            idx = v_last-3+i\n",
    "            plot_variables = [x[idx], r[idx], G[idx]]\n",
    "            plt.figure(figsize=(12,6))\n",
    "            plt.plot(t, plot_variables,\"-b\",linestyle='-.', label = versionName[idx])\n",
    "            plt.plot(t, plot_variables,\"-g\",linestyle=':', label = versionName[idx])\n",
    "            plt.plot(t, plot_variables,\"-y\",linestyle=':', label = versionName[idx])\n",
    "            plt.plot(t, plot_variables,\"-r\",linestyle='-.', label = versionName[idx])\n",
    "            plt.legend(loc=\"best\",fontsize=10)\n",
    "            plt.title('NPoS Economics:' + plot_titles[j],fontsize=16)\n",
    "            plt.xlabel('Number of Days: t',fontsize=16)\n",
    "            plt.ylabel(y_labels[j],fontsize=16)\n",
    "            plt.xticks(fontsize = 16)\n",
    "            plt.yticks(fontsize = 16)\n",
    "            plt.savefig(plot_titles[j] + '.pdf')"
   ]
  }
 ],
 "metadata": {
  "kernelspec": {
   "display_name": "Python 3",
   "language": "python",
   "name": "python3"
  },
  "language_info": {
   "codemirror_mode": {
    "name": "ipython",
    "version": 3
   },
   "file_extension": ".py",
   "mimetype": "text/x-python",
   "name": "python",
   "nbconvert_exporter": "python",
   "pygments_lexer": "ipython3",
   "version": "3.6.4"
  }
 },
 "nbformat": 4,
 "nbformat_minor": 2
}
