{
 "cells": [
  {
   "cell_type": "markdown",
   "metadata": {},
   "source": [
    "# NPoS Economics V7: Sequential Phragmen\n",
    "### **Author**: Eray Sabancilar\n",
    "### **Last updated**: 31.03.2020\n",
    "\n",
    "In this notebook, we analyze a dynamic microeconomic model of the NPoS agents (nominators and validators). For a detailed description see:\n",
    "\n",
    "https://hackmd.io/lds-5KCSRL6zVazm4p16TA?view\n",
    "\n",
    "## V7 Summary\n",
    "\n",
    "In this version, we introduce validator assignment in each era using an implementation of Alistair's sequential Phragmen python code (https://github.com/w3f/consensus/blob/master/NPoS/simplePhragm%C3%A9n.py) into our NPoS economic model."
   ]
  },
  {
   "cell_type": "markdown",
   "metadata": {},
   "source": [
    "### Parameters\n",
    "\n",
    "In our simulation, we use the following set of parameter values.\n",
    "\n",
    "| Parameters                  | Values                                        |\n",
    "| --------                    | --------                                      | \n",
    "| Initial Nominator & Validator Wealths   | $w_0$: Taken from Kusama Accounts              | \n",
    "| Fraction of Initial Stakes  | $f_0 = 0.5$                                   |\n",
    "| Inflation Parameters        | $I_0 = 0.025$, $\\chi_{\\rm ideal} = 0.5$, $r_{\\rm ideal} = 0.2$, $d_{\\rm shift} = 0.05$| \n",
    "| Era                         | $t=1$ day                              |\n",
    "| Total Time                  | $T = 10$ years                         |\n",
    "| Opportunity Cost of Capital | $R_{\\rm opp}^{\\rm ann} = 0.2$         |\n",
    "| Staking Adjustment Speed    | $\\alpha = 100$                         | \n",
    "| Stickiness Probability      | $p_s = 1/7$ (~once a week)             |\n",
    "| Unresponsiveness Probability| $p_u = 1/60$ (~once every other 2 months)  |\n",
    "| Equivocation Probability    | $p_e = 1/240$ (~once every other 8 months) |\n",
    "| Number of New Accounts | $N_{\\rm new} = 1000$ |\n",
    "| Amount in New Accounts | $W_{\\rm new}  = 50$ KSM |\n",
    "| Validator Commission Fee | $fee_v = 0.2$|\n",
    "| Number of Validators | $N_v = 300$ |\n",
    "| Maximum Number of Validators per Nominator| $N_{v_{max}}$ = 16|"
   ]
  },
  {
   "cell_type": "markdown",
   "metadata": {},
   "source": [
    "### Import Python Libraries"
   ]
  },
  {
   "cell_type": "code",
   "execution_count": 1,
   "metadata": {},
   "outputs": [],
   "source": [
    "import numpy as np\n",
    "import pandas as pd\n",
    "import matplotlib as mpl\n",
    "import matplotlib.pyplot as plt\n",
    "import random"
   ]
  },
  {
   "cell_type": "markdown",
   "metadata": {},
   "source": [
    "## 1. Kusama Genesis Balances"
   ]
  },
  {
   "cell_type": "markdown",
   "metadata": {},
   "source": [
    "### 1.1. Importing Kusama Genesis Address & Balance Data"
   ]
  },
  {
   "cell_type": "code",
   "execution_count": 2,
   "metadata": {},
   "outputs": [
    {
     "name": "stdout",
     "output_type": "stream",
     "text": [
      "The number of all accounts at genesis is 381.\n",
      "The total amount in the balances is 3.433 million Kusamas.\n",
      "The median account balance is 211.051 Kusamas.\n"
     ]
    }
   ],
   "source": [
    "# Import data\n",
    "data = pd.read_csv(\"kusamaGenesisBalances.csv\")\n",
    "\n",
    "# Convert balances into units of Kusamas\n",
    "data['Balance'] = data['Balance']*(10**(-12))\n",
    "\n",
    "# Reorder data by balance amounts\n",
    "data = data.sort_values(by='Balance', ascending=False)\n",
    "nAccounts = data.values.shape[0]\n",
    "print(\"The number of all accounts at genesis is {}.\".format(nAccounts))\n",
    "\n",
    "# Total and median amounts in the balances\n",
    "sumKSM = data[\"Balance\"].sum()\n",
    "print(\"The total amount in the balances is {} million Kusamas.\".format(round(sumKSM/10**6,3)))\n",
    "medianKSM = round(data[\"Balance\"].median(),3)\n",
    "print(\"The median account balance is {} Kusamas.\".format(medianKSM))"
   ]
  },
  {
   "cell_type": "markdown",
   "metadata": {},
   "source": [
    "### 1.2. Exploratory Data Analysis"
   ]
  },
  {
   "cell_type": "code",
   "execution_count": 3,
   "metadata": {},
   "outputs": [
    {
     "data": {
      "text/html": [
       "<div>\n",
       "<style scoped>\n",
       "    .dataframe tbody tr th:only-of-type {\n",
       "        vertical-align: middle;\n",
       "    }\n",
       "\n",
       "    .dataframe tbody tr th {\n",
       "        vertical-align: top;\n",
       "    }\n",
       "\n",
       "    .dataframe thead th {\n",
       "        text-align: right;\n",
       "    }\n",
       "</style>\n",
       "<table border=\"1\" class=\"dataframe\">\n",
       "  <thead>\n",
       "    <tr style=\"text-align: right;\">\n",
       "      <th></th>\n",
       "      <th>Address</th>\n",
       "      <th>Balance</th>\n",
       "    </tr>\n",
       "  </thead>\n",
       "  <tbody>\n",
       "    <tr>\n",
       "      <th>118</th>\n",
       "      <td>5HDxC9wVPShJZ3UD7mF21pysMFL8qmYDSdspaeY1tWtZQGcK</td>\n",
       "      <td>709346.898</td>\n",
       "    </tr>\n",
       "    <tr>\n",
       "      <th>1</th>\n",
       "      <td>5DwXnSMVwLXBZoEfJDw9LMXAb1Q4pv1yp8DrFzNWqAzuJHPo</td>\n",
       "      <td>369340.969</td>\n",
       "    </tr>\n",
       "    <tr>\n",
       "      <th>179</th>\n",
       "      <td>5ENzuYss9R3tJzCFbTp3MnoMwShTMpCP9dQ5DQ7Ve6SQdCpL</td>\n",
       "      <td>84420.792</td>\n",
       "    </tr>\n",
       "    <tr>\n",
       "      <th>380</th>\n",
       "      <td>5GYUNkqs6gWBi5xxvvG2vBry6o2oLduFXSvTQCwjxF9nhREe</td>\n",
       "      <td>75000.000</td>\n",
       "    </tr>\n",
       "  </tbody>\n",
       "</table>\n",
       "</div>"
      ],
      "text/plain": [
       "                                              Address     Balance\n",
       "118  5HDxC9wVPShJZ3UD7mF21pysMFL8qmYDSdspaeY1tWtZQGcK  709346.898\n",
       "1    5DwXnSMVwLXBZoEfJDw9LMXAb1Q4pv1yp8DrFzNWqAzuJHPo  369340.969\n",
       "179  5ENzuYss9R3tJzCFbTp3MnoMwShTMpCP9dQ5DQ7Ve6SQdCpL   84420.792\n",
       "380  5GYUNkqs6gWBi5xxvvG2vBry6o2oLduFXSvTQCwjxF9nhREe   75000.000"
      ]
     },
     "execution_count": 3,
     "metadata": {},
     "output_type": "execute_result"
    }
   ],
   "source": [
    "# The first few rows of the sorted dataset\n",
    "data.head(4)"
   ]
  },
  {
   "cell_type": "code",
   "execution_count": 4,
   "metadata": {},
   "outputs": [
    {
     "data": {
      "text/html": [
       "<div>\n",
       "<style scoped>\n",
       "    .dataframe tbody tr th:only-of-type {\n",
       "        vertical-align: middle;\n",
       "    }\n",
       "\n",
       "    .dataframe tbody tr th {\n",
       "        vertical-align: top;\n",
       "    }\n",
       "\n",
       "    .dataframe thead th {\n",
       "        text-align: right;\n",
       "    }\n",
       "</style>\n",
       "<table border=\"1\" class=\"dataframe\">\n",
       "  <thead>\n",
       "    <tr style=\"text-align: right;\">\n",
       "      <th></th>\n",
       "      <th>Address</th>\n",
       "      <th>Balance</th>\n",
       "    </tr>\n",
       "  </thead>\n",
       "  <tbody>\n",
       "    <tr>\n",
       "      <th>269</th>\n",
       "      <td>5HjgWVF8CuP3xMsBmg4SKfK8Wvbhi6xoREs63YKfwZMAqy2r</td>\n",
       "      <td>0.01</td>\n",
       "    </tr>\n",
       "    <tr>\n",
       "      <th>311</th>\n",
       "      <td>5HNNjonNAftjHTToLpf5iyYeir2NDYnBdcRiwyJkP4Ra76QW</td>\n",
       "      <td>0.01</td>\n",
       "    </tr>\n",
       "    <tr>\n",
       "      <th>310</th>\n",
       "      <td>5CAWmjDvXUxrwThznrsMy5WwpH714NwJcMirqXQifLXQw4Li</td>\n",
       "      <td>0.01</td>\n",
       "    </tr>\n",
       "    <tr>\n",
       "      <th>298</th>\n",
       "      <td>5G6GU1xmqxmLmPQ2L9pXtqNiRdcGG31cbq63mf3TU7Z4BPDU</td>\n",
       "      <td>0.01</td>\n",
       "    </tr>\n",
       "  </tbody>\n",
       "</table>\n",
       "</div>"
      ],
      "text/plain": [
       "                                              Address  Balance\n",
       "269  5HjgWVF8CuP3xMsBmg4SKfK8Wvbhi6xoREs63YKfwZMAqy2r     0.01\n",
       "311  5HNNjonNAftjHTToLpf5iyYeir2NDYnBdcRiwyJkP4Ra76QW     0.01\n",
       "310  5CAWmjDvXUxrwThznrsMy5WwpH714NwJcMirqXQifLXQw4Li     0.01\n",
       "298  5G6GU1xmqxmLmPQ2L9pXtqNiRdcGG31cbq63mf3TU7Z4BPDU     0.01"
      ]
     },
     "execution_count": 4,
     "metadata": {},
     "output_type": "execute_result"
    }
   ],
   "source": [
    "# The last few rows of the sorted dataset\n",
    "data.tail(4)"
   ]
  },
  {
   "cell_type": "code",
   "execution_count": 5,
   "metadata": {},
   "outputs": [],
   "source": [
    "# cleanData removes the KSM accounts with balances smaller than the specified threshold\n",
    "# ->Inputs:\n",
    "# data: KSM account addresses and balances as a pandas dataframe\n",
    "# threshold: minimum KSM balance above which is kept in the clean dataset \n",
    "# Output->: \n",
    "# clean dataset as a pandas dataframe\n",
    "def cleanData(data,threshold):\n",
    "    # Indicies of balances without the threshold balances\n",
    "    idx = data[\"Balance\"].loc[data[\"Balance\"] != threshold].index \n",
    "\n",
    "    # Data without Kusama accounts with balances larger than the threshold\n",
    "    dataClean = data.loc[idx]\n",
    "    return dataClean"
   ]
  },
  {
   "cell_type": "code",
   "execution_count": 6,
   "metadata": {},
   "outputs": [
    {
     "data": {
      "text/html": [
       "<div>\n",
       "<style scoped>\n",
       "    .dataframe tbody tr th:only-of-type {\n",
       "        vertical-align: middle;\n",
       "    }\n",
       "\n",
       "    .dataframe tbody tr th {\n",
       "        vertical-align: top;\n",
       "    }\n",
       "\n",
       "    .dataframe thead th {\n",
       "        text-align: right;\n",
       "    }\n",
       "</style>\n",
       "<table border=\"1\" class=\"dataframe\">\n",
       "  <thead>\n",
       "    <tr style=\"text-align: right;\">\n",
       "      <th></th>\n",
       "      <th>Address</th>\n",
       "      <th>Balance</th>\n",
       "    </tr>\n",
       "  </thead>\n",
       "  <tbody>\n",
       "    <tr>\n",
       "      <th>118</th>\n",
       "      <td>5HDxC9wVPShJZ3UD7mF21pysMFL8qmYDSdspaeY1tWtZQGcK</td>\n",
       "      <td>709346.898</td>\n",
       "    </tr>\n",
       "    <tr>\n",
       "      <th>1</th>\n",
       "      <td>5DwXnSMVwLXBZoEfJDw9LMXAb1Q4pv1yp8DrFzNWqAzuJHPo</td>\n",
       "      <td>369340.969</td>\n",
       "    </tr>\n",
       "    <tr>\n",
       "      <th>179</th>\n",
       "      <td>5ENzuYss9R3tJzCFbTp3MnoMwShTMpCP9dQ5DQ7Ve6SQdCpL</td>\n",
       "      <td>84420.792</td>\n",
       "    </tr>\n",
       "    <tr>\n",
       "      <th>380</th>\n",
       "      <td>5GYUNkqs6gWBi5xxvvG2vBry6o2oLduFXSvTQCwjxF9nhREe</td>\n",
       "      <td>75000.000</td>\n",
       "    </tr>\n",
       "  </tbody>\n",
       "</table>\n",
       "</div>"
      ],
      "text/plain": [
       "                                              Address     Balance\n",
       "118  5HDxC9wVPShJZ3UD7mF21pysMFL8qmYDSdspaeY1tWtZQGcK  709346.898\n",
       "1    5DwXnSMVwLXBZoEfJDw9LMXAb1Q4pv1yp8DrFzNWqAzuJHPo  369340.969\n",
       "179  5ENzuYss9R3tJzCFbTp3MnoMwShTMpCP9dQ5DQ7Ve6SQdCpL   84420.792\n",
       "380  5GYUNkqs6gWBi5xxvvG2vBry6o2oLduFXSvTQCwjxF9nhREe   75000.000"
      ]
     },
     "metadata": {},
     "output_type": "display_data"
    },
    {
     "data": {
      "text/html": [
       "<div>\n",
       "<style scoped>\n",
       "    .dataframe tbody tr th:only-of-type {\n",
       "        vertical-align: middle;\n",
       "    }\n",
       "\n",
       "    .dataframe tbody tr th {\n",
       "        vertical-align: top;\n",
       "    }\n",
       "\n",
       "    .dataframe thead th {\n",
       "        text-align: right;\n",
       "    }\n",
       "</style>\n",
       "<table border=\"1\" class=\"dataframe\">\n",
       "  <thead>\n",
       "    <tr style=\"text-align: right;\">\n",
       "      <th></th>\n",
       "      <th>Address</th>\n",
       "      <th>Balance</th>\n",
       "    </tr>\n",
       "  </thead>\n",
       "  <tbody>\n",
       "    <tr>\n",
       "      <th>193</th>\n",
       "      <td>5H1DvSQVg8wGHiiP2ugdHQQUU7TUNAcL7cg6XYsnAFCDz63f</td>\n",
       "      <td>5.276</td>\n",
       "    </tr>\n",
       "    <tr>\n",
       "      <th>232</th>\n",
       "      <td>5DLB96CJ62oWhfUiLNN36tM9KmpU789dW5qRzCB3PTg2VBYD</td>\n",
       "      <td>4.588</td>\n",
       "    </tr>\n",
       "    <tr>\n",
       "      <th>19</th>\n",
       "      <td>5EyErcfEJTjKJjE4tDiPZNyAhCAqpckkNPo9Ncjod8yhZr7Z</td>\n",
       "      <td>2.661</td>\n",
       "    </tr>\n",
       "    <tr>\n",
       "      <th>258</th>\n",
       "      <td>5C5CHDNR2mgsy48eopGp1BcZ29EYM5dxMBNEAe5VpX4cPjKY</td>\n",
       "      <td>0.825</td>\n",
       "    </tr>\n",
       "  </tbody>\n",
       "</table>\n",
       "</div>"
      ],
      "text/plain": [
       "                                              Address  Balance\n",
       "193  5H1DvSQVg8wGHiiP2ugdHQQUU7TUNAcL7cg6XYsnAFCDz63f    5.276\n",
       "232  5DLB96CJ62oWhfUiLNN36tM9KmpU789dW5qRzCB3PTg2VBYD    4.588\n",
       "19   5EyErcfEJTjKJjE4tDiPZNyAhCAqpckkNPo9Ncjod8yhZr7Z    2.661\n",
       "258  5C5CHDNR2mgsy48eopGp1BcZ29EYM5dxMBNEAe5VpX4cPjKY    0.825"
      ]
     },
     "metadata": {},
     "output_type": "display_data"
    }
   ],
   "source": [
    "# Remove accounts with balances of 0.01 or less KSM \n",
    "threshold = 0.01\n",
    "dataClean = cleanData(data,threshold)\n",
    "# Check the first and the last few rows of ordered balances\n",
    "display(dataClean.head(4))\n",
    "display(dataClean.tail(4))"
   ]
  },
  {
   "cell_type": "code",
   "execution_count": 7,
   "metadata": {},
   "outputs": [
    {
     "name": "stdout",
     "output_type": "stream",
     "text": [
      "The number of accounts at genesis with more than 0.01 KSM is 339.\n",
      "Thus, there are 42 accounts with 0.01 KSM that we drop in what follows.\n"
     ]
    }
   ],
   "source": [
    "# Number of accounts in the clean dataset\n",
    "nAccountsClean = dataClean.values.shape[0]\n",
    "print(\"The number of accounts at genesis with more than 0.01 KSM is {}.\".format(nAccountsClean))\n",
    "print(\"Thus, there are {} accounts with 0.01 KSM that we drop in what follows.\".format(nAccounts - nAccountsClean))"
   ]
  },
  {
   "cell_type": "code",
   "execution_count": 8,
   "metadata": {},
   "outputs": [],
   "source": [
    "# plotBalances plots the histogram of the Kusama accounts at genesis\n",
    "# ->Inputs:\n",
    "# data: account balance data\n",
    "# figureName: Figure name as a string\n",
    "# Output->:\n",
    "# Histogram of the Kusama genesis account balances as a pdf file\n",
    "def plotBalances(data,figureName):\n",
    "    plt.figure(figsize=(20,8))\n",
    "    plt.hist(data,300)\n",
    "    plt.xlabel('Kusama Balances (KSM)',fontsize = 16)\n",
    "    plt.ylabel('Number of Kusama Accounts',fontsize = 16)\n",
    "    plt.title('Kusama Genesis Balance Distribution',fontsize = 20)\n",
    "    plt.xticks(fontsize = 16)\n",
    "    plt.yticks(fontsize = 16)\n",
    "    #axes = plt.gca()\n",
    "    #axes.set_xlim([xmin,xmax])\n",
    "    #axes.set_ylim([ymin,ymax])\n",
    "    plt.savefig(figureName)\n",
    "    return plt.show()"
   ]
  },
  {
   "cell_type": "code",
   "execution_count": 9,
   "metadata": {},
   "outputs": [
    {
     "data": {
      "text/plain": [
       "12.22"
      ]
     },
     "execution_count": 9,
     "metadata": {},
     "output_type": "execute_result"
    }
   ],
   "source": [
    "#outlierShare\n",
    "round((dataClean[\"Balance\"][1]+dataClean[\"Balance\"][2])*100/sumKSM,2)"
   ]
  },
  {
   "cell_type": "markdown",
   "metadata": {},
   "source": [
    "We observe two outlier account balances with 709,346.898 & 369,340.969 KSM, whereas the lowest balance has 0.825 KSM. The largest two balances hold 12.22 % share of the whole Kusamas at genesis."
   ]
  },
  {
   "cell_type": "markdown",
   "metadata": {},
   "source": [
    "## 2. Initial Conditions and Parameters"
   ]
  },
  {
   "cell_type": "markdown",
   "metadata": {},
   "source": [
    "### 2.1. Parameters"
   ]
  },
  {
   "cell_type": "code",
   "execution_count": 10,
   "metadata": {},
   "outputs": [],
   "source": [
    "# Fraction of stakes from the Kusama genesis balances\n",
    "f_0 = 0.5\n",
    "# Inflation parameters\n",
    "I_0 = 0.025 \n",
    "chi_ideal = 0.5\n",
    "r_ideal = 0.2\n",
    "d_shift = 0.05\n",
    "# Total time length\n",
    "year = 10\n",
    "T = 365*year\n",
    "# Annual opportunity cost of capital\n",
    "R_opp = 0.2\n",
    "# Staking adjustment speed\n",
    "alpha = 100\n",
    "# Staking stickiness parameter: update roughly once a week\n",
    "p_s = 1/7\n",
    "# Unresponsiveness parameter: occurs roughly once every other 2 months\n",
    "p_u = 1/60\n",
    "# Equivocation parameter: occurs roughly once every other 8 months\n",
    "p_e = 1/240\n",
    "# Number of new accounts\n",
    "N_new = 1000\n",
    "# Amount in new accounts\n",
    "w_new = 50\n",
    "# Commission fee fraction charged by validators\n",
    "fee_v = 0.2\n",
    "# Number of validators\n",
    "N_v = 300\n",
    "# Maximum Number of Validators per Nominator\n",
    "N_v_max = 16"
   ]
  },
  {
   "cell_type": "markdown",
   "metadata": {},
   "source": [
    "### 2.2. Add New Accounts"
   ]
  },
  {
   "cell_type": "code",
   "execution_count": 11,
   "metadata": {},
   "outputs": [],
   "source": [
    "# addNewAccounts adds a number of new accounts with the same balances to the genesis accounts\n",
    "# -> Inputs: \n",
    "# N_new: Number of new accounts to be added\n",
    "# w_new: Balance of new accounts in KSM\n",
    "# <- Output:\n",
    "# A vector of new account balances\n",
    "def addNewAccounts(N_new,w_new):\n",
    "    w_new_0 = np.multiply(w_new, np.ones((N_new)))\n",
    "    return w_new_0"
   ]
  },
  {
   "cell_type": "code",
   "execution_count": 12,
   "metadata": {},
   "outputs": [],
   "source": [
    "# Add new accounts with small balances\n",
    "w_new_0 = addNewAccounts(N_new,w_new)"
   ]
  },
  {
   "cell_type": "markdown",
   "metadata": {},
   "source": [
    "### 2.2. The Initial Wealth Distribution"
   ]
  },
  {
   "cell_type": "code",
   "execution_count": 13,
   "metadata": {},
   "outputs": [],
   "source": [
    "# Initial wealth\n",
    "w_0 = np.sort(np.concatenate((dataClean['Balance'].values,w_new_0)))"
   ]
  },
  {
   "cell_type": "markdown",
   "metadata": {},
   "source": [
    "### 2.4. Number of Nominators"
   ]
  },
  {
   "cell_type": "code",
   "execution_count": 14,
   "metadata": {},
   "outputs": [],
   "source": [
    "# Number of validators and nominators\n",
    "N = w_0.shape[0]\n",
    "N_v = 300\n",
    "# Number of Nominators\n",
    "N_n = N - N_v"
   ]
  },
  {
   "cell_type": "markdown",
   "metadata": {},
   "source": [
    "### 2.3. Bootstraping a Set of Validators and Nominators"
   ]
  },
  {
   "cell_type": "code",
   "execution_count": 15,
   "metadata": {},
   "outputs": [],
   "source": [
    "# Create an array of indices for all the accounts\n",
    "idx_N = np.array(range(0, N)) \n",
    "# Generate random indices corresponding to the validator account balances\n",
    "idx_v = np.sort(random.sample(range(0, N), N_v))\n",
    "# Set the remaning indices for nominators\n",
    "idx_n = np.delete(idx_N, idx_v)\n",
    "# Bootstrap validators from the initial distribution\n",
    "w_0_v = np.take(w_0, idx_v)\n",
    "# Set the remaning accounts as nominators\n",
    "w_0_n = np.take(w_0, idx_n)\n",
    "# Merge initial wealth\n",
    "w_0 = np.zeros(N)\n",
    "w_0[0:N_n] = w_0_n \n",
    "w_0[N_n:N_n+N_v] = w_0_v"
   ]
  },
  {
   "cell_type": "markdown",
   "metadata": {},
   "source": [
    "### 2.4. Initial Staking Distribution"
   ]
  },
  {
   "cell_type": "code",
   "execution_count": 16,
   "metadata": {},
   "outputs": [],
   "source": [
    "# Initial validator staking\n",
    "d_0_v = f_0*w_0_v\n",
    "# Initial nominator staking\n",
    "d_0_n = f_0*w_0_n\n",
    "# Merge initial stakes into a single ordered vector\n",
    "d_0 = np.zeros(N)\n",
    "d_0[0:N_n] = d_0_n \n",
    "d_0[N_n:N_n+N_v] = d_0_v"
   ]
  },
  {
   "cell_type": "markdown",
   "metadata": {},
   "source": [
    "### 2.5. Redefining Nominator and Validator Indices"
   ]
  },
  {
   "cell_type": "code",
   "execution_count": 17,
   "metadata": {},
   "outputs": [],
   "source": [
    "idx_n = np.array(range(0, N_n)) \n",
    "idx_v = np.array(range(N_n, N_n+N_v))"
   ]
  },
  {
   "cell_type": "markdown",
   "metadata": {},
   "source": [
    "### 2.6. Assigning Validators to Nominators Randomly"
   ]
  },
  {
   "cell_type": "code",
   "execution_count": 18,
   "metadata": {},
   "outputs": [],
   "source": [
    "# Assign nominators to validators randomly by allowing assignment to the same validators using replace=True \n",
    "# since N_n > N_v and store them into an index vector A_v \n",
    "def assignValidator(idx_v, N_n):\n",
    "    A_v = np.random.choice(idx_v, N_n, replace=True, p=None)\n",
    "    return A_v"
   ]
  },
  {
   "cell_type": "markdown",
   "metadata": {},
   "source": [
    "# 3. Function Definitions"
   ]
  },
  {
   "cell_type": "markdown",
   "metadata": {},
   "source": [
    "### 3.1. Inflation and Interest Rates"
   ]
  },
  {
   "cell_type": "code",
   "execution_count": 19,
   "metadata": {},
   "outputs": [],
   "source": [
    "# Annual inflation rate as a function of the staking rate x\n",
    "# ->Input parameters:\n",
    "# I_0: inflation \n",
    "# chi_ideal: ideal staking rate\n",
    "# r_ideal: ideal interest rate\n",
    "# d_shift: shift parameter\n",
    "# Input variable:\n",
    "# x: staking rate as a number\n",
    "# Output->:\n",
    "# annualInflation: annual inflation rate\n",
    "def annualInflation(I_0, chi_ideal, r_ideal, d_shift, x):\n",
    "    if 0 <= x <= chi_ideal:\n",
    "        I = I_0 + (r_ideal - I_0/chi_ideal)*x\n",
    "    if chi_ideal < x <= 1:\n",
    "        I = I_0 + (r_ideal*chi_ideal - I_0)*2**((chi_ideal - x)/d_shift)\n",
    "    return I\n",
    "\n",
    "# Annual interest rate\n",
    "# ->Input parameters: I_0, chi_ideal, r_ideal, dinf\n",
    "# Input variable:\n",
    "# x: staking rate as a number\n",
    "# Output->:\n",
    "# annualInterest: annual inflation rate\n",
    "def annualInterest(I_0, chi_ideal, r_ideal, d_shift, x):\n",
    "    if 0<= x < 0.00001:\n",
    "        r = 2.62\n",
    "    else:\n",
    "        r = annualInflation(I_0, chi_ideal, r_ideal, d_shift, x)/x\n",
    "    return r"
   ]
  },
  {
   "cell_type": "markdown",
   "metadata": {},
   "source": [
    "### 3.2. Plot of Inflation and Interest Rates"
   ]
  },
  {
   "cell_type": "code",
   "execution_count": 20,
   "metadata": {},
   "outputs": [],
   "source": [
    "# plotInflationInterestRate produces inflation and interest rate curves for all range of staking rates\n",
    "# ->Inputs:\n",
    "# ymin_inf, ymax_inf, ymin_r, ymax_r: y axis limits for inflation and interest rate plots respectively\n",
    "# Outputs->:\n",
    "# Annual inflation and interest rates as pdf files\n",
    "def plotInflationInterestRate(ymin_inf, ymax_inf, ymin_r, ymax_r):\n",
    "    xlin = np.linspace(0, 1, 100, endpoint=True)\n",
    "    Ilin = np.zeros(len(xlin))\n",
    "    rlin = np.zeros(len(xlin))\n",
    "    for i in range(0,len(xlin)):\n",
    "        Ilin[i] = annualInflation(I_0, chi_ideal, r_ideal, d_shift, xlin[i])\n",
    "        rlin[i] = annualInterest(I_0, chi_ideal, r_ideal, d_shift, xlin[i])\n",
    "    plot_title = ['Annual Inflation Rate','Annual Interest Rate']\n",
    "    plot_variable = [Ilin,rlin]\n",
    "    ylims = [[ymin_inf, ymax_inf],[ymin_r, ymax_r]]\n",
    "    for j in range(0,len(plot_title)):\n",
    "        plt.figure(figsize=(10,6))\n",
    "        plt.plot(xlin, plot_variable[j],\"-r\")\n",
    "        plt.xlabel('Staking Rate: x', fontsize=16)\n",
    "        plt.ylabel(plot_title[j], fontsize=16)\n",
    "        plt.xticks(fontsize = 16)\n",
    "        plt.yticks(fontsize = 16)\n",
    "        axes = plt.gca()\n",
    "        axes.set_ylim(ylims[j])\n",
    "        axes.set_xlim([0,1])\n",
    "        plt.savefig(plot_title[j] + '.pdf')"
   ]
  },
  {
   "cell_type": "code",
   "execution_count": 21,
   "metadata": {},
   "outputs": [
    {
     "data": {
      "image/png": "[encoded data removed]",
      "text/plain": [
       "<matplotlib.figure.Figure at 0x1111d9550>"
      ]
     },
     "metadata": {},
     "output_type": "display_data"
    },
    {
     "data": {
      "image/png": "[encoded data removed]",
      "text/plain": [
       "<matplotlib.figure.Figure at 0x10c79a4a8>"
      ]
     },
     "metadata": {},
     "output_type": "display_data"
    }
   ],
   "source": [
    "# Plot the annual NPoS inflation and interest rate curves\n",
    "ymin_inf, ymax_inf, ymin_r, ymax_r = 0, 0.12, 0, 2.7\n",
    "plotInflationInterestRate(ymin_inf, ymax_inf, ymin_r, ymax_r)"
   ]
  },
  {
   "cell_type": "markdown",
   "metadata": {},
   "source": [
    "## 4 Sequential Phragmen"
   ]
  },
  {
   "cell_type": "markdown",
   "metadata": {},
   "source": [
    "Alistair's original python code can be found here:\n",
    "https://github.com/w3f/consensus/blob/master/NPoS/simplePhragm%C3%A9n.py"
   ]
  },
  {
   "cell_type": "markdown",
   "metadata": {},
   "source": [
    "### 4.1. Sequantial Phragmen with Postprocessing"
   ]
  },
  {
   "cell_type": "code",
   "execution_count": 22,
   "metadata": {},
   "outputs": [],
   "source": [
    "#from itertools import count\n",
    "class edge:\n",
    "    def __init__(self,nomid,valiid):\n",
    "        self.nomid=nomid\n",
    "        self.valiid=valiid\n",
    "        #self.validator\n",
    "        self.load=0\n",
    "\n",
    "class nominator:\n",
    "    def __init__(self,votetuple):\n",
    "        self.nomid=votetuple[0]\n",
    "        self.budget=votetuple[1]\n",
    "        self.edges=[edge(self.nomid,valiid) for valiid in votetuple[2]]\n",
    "        self.load=0\n",
    "\n",
    "class candidate:\n",
    "    def __init__(self,valiid,valindex):\n",
    "        self.valiid = valiid\n",
    "        self.valindex=valindex\n",
    "        self.approvalstake=0\n",
    "        self.elected=False\n",
    "        self.backedstake=0\n",
    "        self.score=0\n",
    "\n",
    "def setuplists(votelist):\n",
    "    #Instead of Python's dict here, you can use anything with O(log n) addition and lookup.\n",
    "    #We can also use a hashmap like dict, by generating a random constant r and useing H(canid+r)\n",
    "    #since the naive thing is obviously attackable.\n",
    "    nomlist = [nominator(votetuple) for votetuple in votelist]\n",
    "    candidatedict=dict()\n",
    "    candidatearray=list()\n",
    "    numcandidates=0\n",
    "    #Get an array of candidates. ]#We could reference these by index\n",
    "    #rather than pointer\n",
    "    for nom in nomlist:\n",
    "        for edge in nom.edges:\n",
    "            valiid = edge.valiid\n",
    "            if valiid in candidatedict:\n",
    "                edge.candidate=candidatearray[candidatedict[valiid]]\n",
    "            else:\n",
    "                candidatedict[valiid]=numcandidates\n",
    "                newcandidate=candidate(valiid,numcandidates)\n",
    "                candidatearray.append(newcandidate)\n",
    "                edge.candidate=newcandidate\n",
    "                numcandidates += 1\n",
    "    return(nomlist,candidatearray)\n",
    "    \n",
    "\n",
    "def seqPhragmen(votelist,numtoelect):\n",
    "    nomlist,candidates=setuplists(votelist)\n",
    "    #Compute the total possible stake for each candidate\n",
    "    for nom in nomlist:\n",
    "        for edge in nom.edges:\n",
    "            edge.candidate.approvalstake += nom.budget\n",
    "        \n",
    "    electedcandidates=list()\n",
    "    for round in range(numtoelect):\n",
    "        for candidate in candidates:\n",
    "            if not candidate.elected:\n",
    "                candidate.score=1/candidate.approvalstake\n",
    "        for nom in nomlist:\n",
    "            for edge in nom.edges:\n",
    "                if not edge.candidate.elected:\n",
    "                    edge.candidate.score +=nom.budget * nom.load / edge.candidate.approvalstake\n",
    "        bestcandidate=0\n",
    "        bestscore = 1000 #should be infinite but I'm lazy\n",
    "        for candidate in candidates:\n",
    "            if not candidate.elected and candidate.score < bestscore:\n",
    "                bestscore=candidate.score\n",
    "                bestcandidate=candidate.valindex\n",
    "        electedcandidate=candidates[bestcandidate]\n",
    "        electedcandidate.elected=True\n",
    "        electedcandidate.electedpos=round\n",
    "        electedcandidates.append(electedcandidate)\n",
    "        for nom in nomlist:\n",
    "            for edge in nom.edges:\n",
    "                if edge.candidate.valindex == bestcandidate:\n",
    "                    edge.load=electedcandidate.score - nom.load\n",
    "                    nom.load=electedcandidate.score\n",
    "\n",
    "    for candidate in electedcandidates:\n",
    "        candidate.backedstake=0\n",
    "\n",
    "    for nom in nomlist:\n",
    "            for edge in nom.edges:\n",
    "                if nom.load > 0.0:\n",
    "                    edge.backingstake = nom.budget * edge.load/nom.load\n",
    "                    edge.candidate.backedstake += edge.backingstake\n",
    "                else:\n",
    "                    edge.backingstake = 0\n",
    "    return (nomlist,electedcandidates)\n",
    "\n",
    "def approvalvoting(votelist,numtoelect):\n",
    "    nomlist,candidates=setuplists(votelist)\n",
    "    #Compute the total possible stake for each candidate\n",
    "    for nom in nomlist:\n",
    "        for edge in nom.edges:\n",
    "            edge.candidate.approvalstake += nom.budget\n",
    "            edge.backingstake = nom.budget/min(len(nom.edges),numtoelect)\n",
    "            edge.candidate.backedstake += edge.backingstake\n",
    "    candidates.sort( key = lambda x : x.approvalstake, reverse=True)\n",
    "    electedcandidates=candidates[0:numtoelect]\n",
    "    return nomlist,electedcandidates\n",
    "\n",
    "def printresult(nomlist,electedcandidates):\n",
    "    for candidate in electedcandidates:\n",
    "        print(candidate.valiid,\" is elected with stake \",candidate.backedstake, \"and score \",candidate.score)\n",
    "    print()\n",
    "    for nom in nomlist:\n",
    "        print(nom.nomid,\" has load \",nom.load, \"and supported \")\n",
    "        for edge in nom.edges:\n",
    "            print(edge.valiid,\" with stake \",edge.backingstake, end=\" \")\n",
    "        print()\n",
    "\n",
    "def equalise(nom, tolerance):\n",
    "    # Attempts to redistribute the nominators budget between elected validators\n",
    "    # Assumes that all elected validators have backedstake set correctly\n",
    "    # returns the max difference in stakes between sup\n",
    "    \n",
    "    electededges=[edge for edge in nom.edges if edge.candidate.elected]\n",
    "    if len(electededges)==0:\n",
    "        return 0.0\n",
    "    stakeused = sum([edge.backingstake for edge in electededges])\n",
    "    backedstakes=[edge.candidate.backedstake for edge in electededges]\n",
    "    backingbackedstakes=[edge.candidate.backedstake for edge in electededges if edge.backingstake > 0.0]\n",
    "    if len(backingbackedstakes) > 0:\n",
    "        difference = max(backingbackedstakes)-min(backedstakes)\n",
    "        difference += nom.budget-stakeused\n",
    "        if difference < tolerance:\n",
    "            return difference\n",
    "    else:\n",
    "        difference = nom.budget\n",
    "    #remove all backing\n",
    "    for edge in nom.edges:\n",
    "        edge.candidate.backedstake -= edge.backingstake\n",
    "        edge.backingstake=0\n",
    "    electededges.sort(key=lambda x: x.candidate.backedstake)\n",
    "    cumulativebackedstake=0\n",
    "    lastcandidateindex=len(electededges)-1\n",
    "    for i in range(len(electededges)):\n",
    "        backedstake=electededges[i].candidate.backedstake\n",
    "        #print(nom.nomid,electededges[i].valiid,backedstake,cumulativebackedstake,i)\n",
    "        if backedstake * i - cumulativebackedstake > nom.budget:\n",
    "            lastcandidateindex=i-1\n",
    "            break\n",
    "        cumulativebackedstake +=backedstake\n",
    "    laststake=electededges[lastcandidateindex].candidate.backedstake\n",
    "    waystosplit=lastcandidateindex+1\n",
    "    excess = nom.budget + cumulativebackedstake -  laststake*waystosplit\n",
    "    for edge in electededges[0:waystosplit]:\n",
    "        edge.backingstake = excess / waystosplit + laststake - edge.candidate.backedstake\n",
    "        edge.candidate.backedstake += edge.backingstake\n",
    "    return difference\n",
    "\n",
    "import random\n",
    "def equaliseall(nomlist,maxiterations,tolerance):\n",
    "    for i in range(maxiterations):\n",
    "        for j in range(len(nomlist)):\n",
    "            nom=random.choice(nomlist)\n",
    "            equalise(nom,tolerance/10)\n",
    "        maxdifference=0\n",
    "        for nom in nomlist:\n",
    "            difference=equalise(nom,tolerance/10)\n",
    "            maxdifference=max(difference,maxdifference)\n",
    "        if maxdifference < tolerance:\n",
    "            return\n",
    "\n",
    "def seqPhragmenwithpostprocessing(votelist,numtoelect):\n",
    "    nomlist,electedcandidates = seqPhragmen(votelist,numtoelect)\n",
    "    equaliseall(nomlist,2,0.1)\n",
    "    return nomlist,electedcandidates\n",
    "# Function: Sequential Phragmen with Postprocessing \n",
    "# nomlist,electedcandidates  = seqPhragmenwithpostprocessing(votelist,numtoelect)\n",
    "# ->Inputs:\n",
    "# votelist = [('Voter_1', Stake_1, ['Candiate_1', 'Candiate_2', ...]), ('Voter_2', ...)]\n",
    "# numtoelect = Number of candidates to be elected\n",
    "# Outputs->: \n",
    "# nomlist[i].nomid = 'Voter_i' -> Voter ID\n",
    "# nomlist[i].load = load -> Load \n",
    "# nomlist[i].edges[j].valiid = 'Candidate_j'  -> Candiate ID\n",
    "# nomlist[i].edges[j].backingstake = stake_j -> Stake behind candidate j\n",
    "# electedcandidates[i].valiid = 'Elected Candiate i'\n",
    "# electedcandidates[i].backedstake = totalStake -> total stake behind Elected Candiate i "
   ]
  },
  {
   "cell_type": "markdown",
   "metadata": {},
   "source": [
    "### 4.2. Votelist"
   ]
  },
  {
   "cell_type": "code",
   "execution_count": 23,
   "metadata": {},
   "outputs": [],
   "source": [
    "# votelist function makes a voting list given the nominator \n",
    "# and validator stakes by randomly choosing a number of \n",
    "# validators to be elected and randomly picking the validators.\n",
    "# The votelist includes the nominators' candidates and stakes\n",
    "# as well as the validator self stakes.\n",
    "# ->Inputs:\n",
    "# N_n: Number of nominators\n",
    "# N_v: Number of validators\n",
    "# N_v_max: Number of maximum number of validators per nominator\n",
    "# N: Total number of nominators and validators\n",
    "# idx_n: Nominator indices\n",
    "# idx_v: Validator indices\n",
    "# d: Nominator and validator stakes\n",
    "# Output->:\n",
    "# votelist: [('Voter_1', Stake_1, ['Candiate_1', 'Candiate_2', ...]), ('Voter_2', ...), ...]\n",
    "def voteList(N_n, N_v, N_v_max, N, idx_n, idx_v, d):\n",
    "    # Preallocate lists\n",
    "    nominatedCandidates = [None]*N_n\n",
    "    nominatorVotelist = [None]*N_n\n",
    "    validatorVotelist = [None]*N_v\n",
    "    votelist = [None]*N\n",
    "    # Randomly generate a list of integers between 1 and 16\n",
    "    N_candidate = np.random.randint(1,high = N_v_max + 1, size=N_n)\n",
    "    for i in range(0,N_n):\n",
    "        # Randomly pick candidate indices for nominator i\n",
    "        nominatedCandidates[i] = np.sort(assignValidator(idx_v, N_candidate[i]))\n",
    "        nominatorVotelist[i] = (idx_n[i], d[i], nominatedCandidates[i])\n",
    "    # Validators self stake\n",
    "    for j in range(0,N_v):\n",
    "        validatorVotelist[j] = (idx_v[j], d[N_n+j], np.array([idx_v[j]]))\n",
    "    # Merge the nominator and validator votelists\n",
    "    votelist[0:N_n] = nominatorVotelist\n",
    "    votelist[N_n:N_n+N_v] = validatorVotelist\n",
    "    return votelist"
   ]
  },
  {
   "cell_type": "markdown",
   "metadata": {},
   "source": [
    "### 4.3. Setting up the Initial Votelist"
   ]
  },
  {
   "cell_type": "code",
   "execution_count": 24,
   "metadata": {},
   "outputs": [],
   "source": [
    "votelist_0 = voteList(N_n, N_v, N_v_max, N, idx_n, idx_v, d_0)"
   ]
  },
  {
   "cell_type": "markdown",
   "metadata": {},
   "source": [
    "### 4.4. The Initial Election Results from Sequential Phragmen"
   ]
  },
  {
   "cell_type": "code",
   "execution_count": 25,
   "metadata": {},
   "outputs": [],
   "source": [
    "nomlist_0, electedcandidates_0 = seqPhragmenwithpostprocessing(votelist_0,N_v)"
   ]
  },
  {
   "cell_type": "markdown",
   "metadata": {},
   "source": [
    "## 5 NPoS Economics"
   ]
  },
  {
   "cell_type": "markdown",
   "metadata": {},
   "source": [
    "### 5.1. NPoS Economic Model"
   ]
  },
  {
   "cell_type": "code",
   "execution_count": 26,
   "metadata": {},
   "outputs": [],
   "source": [
    "# NPoSEcononomics function calculates nominal wealth, staking process of \n",
    "# nominators and validators where validators are randomly assigned to these \n",
    "# nominators. It produces a time series of wealth, staking, inflation & interest rates.\n",
    "# ->Inputs:\n",
    "# I_0, chi_ideal, r_ideal, d_shift: Inflation curve parameters\n",
    "# w_0: Nominator and validator initial wealth distribution\n",
    "# d_0: Nominator and validator initial stake distribution\n",
    "# N_n, N_v: Number of nominators and validators\n",
    "# idx_n, idx_v: Nominator and validator account indices\n",
    "# nomlist_0, electedcandidates_0: Initial results from the sequential Phragmen \n",
    "# T: Number of eras\n",
    "# R_opp: Annual opportunity cost of capital\n",
    "# alpha: Staking adjustment speed\n",
    "# p_u, p_e, p_s: Probabilities of unresponsiveness, equivocation and stickiness\n",
    "# fee_v: Validator commision fee fraction\n",
    "# Outputs->:\n",
    "# w: Wealth distribution\n",
    "# p_tot: Total payouts\n",
    "# x: Staking rate \n",
    "# I: Annual inflation rate\n",
    "# r: Annual interest rate\n",
    "def NPoSEcononomics(I_0, chi_ideal, r_ideal, d_shift,\\\n",
    "                    w_0, d_0,\\\n",
    "                    N_n, N_v,\\\n",
    "                    idx_n, idx_v,\\\n",
    "                    nomlist_0,electedcandidates_0,\\\n",
    "                    T, R_opp, alpha, p_s, p_u, p_e, fee_v): \n",
    "    \n",
    "    # Pre-allocate w, d, p, I, r, x matrices\n",
    "    # Nominal wealth of nominators and validators\n",
    "    w = np.zeros((T+1,N))\n",
    "    \n",
    "    # Nominator, validator & total stakes backing the same validators\n",
    "    d = np.zeros((T+1,N))\n",
    "    d_n_v = np.zeros((T+1,N,N_v))\n",
    "    d_v_tot = np.zeros((T+1,N_v))\n",
    "    d_tot = np.zeros((T+1,1))\n",
    "    \n",
    "    # Total payouts, payouts to validators and nominators\n",
    "    p_tot = np.zeros((T+1,1))\n",
    "    p = np.zeros((T+1,N))\n",
    "    \n",
    "    # Inflation rate\n",
    "    I = np.zeros((T+1,1))\n",
    "    # Interest rate\n",
    "    r = np.zeros((T+1,1))\n",
    "    # Staking rate\n",
    "    x = np.zeros((T+1,1))\n",
    "    # Unit vectors of size equal to the number of nominators and validators\n",
    "    idN = np.ones((1,N))\n",
    "    \n",
    "    # Vectors of zeros of size equal to the number of nominators and validators\n",
    "    zeroN_n = np.zeros((1,N_n))\n",
    "    zeroN_v = np.zeros((1,N_v))\n",
    "    \n",
    "    # Nominator and validator slashing, and total slashing\n",
    "    s_n_v = np.zeros((T+1,N,N_v))\n",
    "    s = np.zeros((T+1,N))\n",
    "    \n",
    "    # Set initial values\n",
    "    w[0,:] = w_0\n",
    "    d[0,:] = d_0\n",
    "    d_tot[0] = np.sum(d_0)\n",
    "    x[0] = (np.sum(d_0))/(np.sum(w_0))\n",
    "    I[0] = annualInflation(I_0, chi_ideal, r_ideal, d_shift, x[0])\n",
    "    r[0] = annualInterest(I_0, chi_ideal, r_ideal, d_shift, x[0])\n",
    "    nomlist = nomlist_0\n",
    "    electedcandidates = electedcandidates_0\n",
    "    \n",
    "    # Update values of these matrices in time\n",
    "    t = 1\n",
    "    while t <= T:\n",
    "        # Unresponsiveness process determined by a Bernoulli variable with probability p_u\n",
    "        u = np.random.binomial(1, p_u, N_v)\n",
    "        # Number of unresponsiveness per era\n",
    "        k_u = np.sum(u)\n",
    "        # Slashing fraction for unresponsiveness\n",
    "        f_u = 0.05*min((3*(k_u-1)/N_v),1)\n",
    "        \n",
    "        # Equivocation process determined by a Bernoulli variable with probability p_e\n",
    "        e = np.random.binomial(1, p_e, N_v)\n",
    "        # Number of unresponsiveness per era\n",
    "        k_e = np.sum(e)\n",
    "        # Slashing fraction for unresponsiveness\n",
    "        f_e = min(((3*k_e/N_v)**2),1)\n",
    "        \n",
    "        # Slashing validators at time t-1\n",
    "        s_n_v[t-1,:,:] = np.multiply(d_n_v[t-1,:,:],u*f_u + e*f_e)\n",
    "        # No slashing at genesis\n",
    "        s_n_v[0,:,:] = np.zeros((N,N_v))\n",
    "        \n",
    "        # Save stakes backing validators\n",
    "        for candidate in electedcandidates:\n",
    "            d_v_tot[t-1,candidate.valiid - idx_v[0]] = candidate.backedstake\n",
    "        \n",
    "        # Save stakes by each nominator n to a given nominator v\n",
    "        for nom in nomlist:\n",
    "            for edge in nom.edges:\n",
    "                # Stake matrix of each time step for nominator n and validator v\n",
    "                d_n_v[t-1,nom.nomid,edge.valiid-idx_v[0]] = edge.backingstake\n",
    "        \n",
    "        # Calculate total stakes from all nominators and validators at time t-1\n",
    "        d_tot[t-1] = np.sum(d_v_tot[t-1,:])\n",
    "        \n",
    "        # Calculate total payout at time t\n",
    "        p_tot[t] = d_tot[t-1]*(r[t-1]/365)\n",
    "          \n",
    "        # Calculate payouts assuming each validator (and nominators backing it)\n",
    "        # Payout of nominators backing validator i net of the validator fee\n",
    "        for nom in nomlist:\n",
    "            for edge in nom.edges:\n",
    "                p[t,nom.nomid] =\\\n",
    "                (d_n_v[t-1,nom.nomid,edge.valiid-idx_v[0]]/d_v_tot[t-1,edge.valiid-idx_v[0]])*(p_tot[t]/N_v)*(1-fee_v)\n",
    "                \n",
    "        # Add validator fees to the validator payouts\n",
    "        p[t,N_n:N_n+N_v] = p[t,N_n:N_n+N_v] + (p_tot[t]/N_v)*fee_v \n",
    "        \n",
    "        # Calculate total slashing of each nominator and validator\n",
    "        s[t-1,:] = np.sum(s_n_v[t-1,:,:],axis=1)\n",
    "            \n",
    "        # Calculate the wealth at time t\n",
    "        w[t,:] = w[t-1,:] + p[t,:] - s[t-1,:]\n",
    "        # Set wealth to zero if it has less than 0.01 KSM\n",
    "        for i in range(0,N):\n",
    "            if w[t,i] <= 0.01:\n",
    "                w[t,i] = 0\n",
    "                \n",
    "        # Staking decision stickiness process determined by a Bernoulli variable with probability p_s\n",
    "        update = np.random.binomial(1, p_s,(1,N))\n",
    "        \n",
    "        # Update the stake based on the comparison of the interest rate with the opportunity cost of capital\n",
    "        d[t,:] = d[t-1,:] +\\\n",
    "        alpha*np.multiply(update,np.multiply(w[t,:],(r[t-1]/365 - (R_opp/365)*idN)))\n",
    "        # Boundary conditions for d\n",
    "        for i in range(0,N):\n",
    "            if np.sign(d[t,i]) == -1:\n",
    "                d[t,i] = 0\n",
    "            if np.sign(d[t,i] - w[t,i]) == 1:\n",
    "                d[t,i] = w[t,i]\n",
    "            if w[t,i] == 0:\n",
    "                d[t,i] = 0\n",
    "        \n",
    "        # Calculate the staking rate\n",
    "        x[t] = (np.sum(d[t,:]))/(np.sum(w[t,:]))\n",
    "        \n",
    "        # Calculate the inflation & interest rates\n",
    "        I[t] = annualInflation(I_0, chi_ideal, r_ideal, d_shift, x[t])\n",
    "        r[t] = annualInterest(I_0, chi_ideal, r_ideal, d_shift, x[t])\n",
    "        \n",
    "        # Make a new votelist \n",
    "        votelist = voteList(N_n, N_v, N_v_max, N, idx_n, idx_v, d[t])\n",
    "        \n",
    "        # Run sequential Phragmen with the new votelist\n",
    "        nomlist,electedcandidates = seqPhragmenwithpostprocessing(votelist,N_v)\n",
    "        \n",
    "        # Switch to the next time step\n",
    "        t = t + 1\n",
    "    return w, p_tot, d_n_v, x, I, r"
   ]
  },
  {
   "cell_type": "code",
   "execution_count": 27,
   "metadata": {},
   "outputs": [],
   "source": [
    "# Run the NPoSEconomics function\n",
    "w, p_tot, d_n_v, x, I, r = NPoSEcononomics(I_0, chi_ideal, r_ideal, d_shift,\\\n",
    "                    w_0, d_0,\\\n",
    "                    N_n, N_v,\\\n",
    "                    idx_n, idx_v,\\\n",
    "                    nomlist_0,electedcandidates_0,\\\n",
    "                    T, R_opp, alpha, p_s, p_u, p_e, fee_v)\n",
    "# Calculate the total income and total wealth\n",
    "Y = p_tot\n",
    "W = np.sum(w,axis=1)\n",
    "# Time array\n",
    "t = np.linspace(0, T, T+1)"
   ]
  },
  {
   "cell_type": "markdown",
   "metadata": {},
   "source": [
    "### 3.4. Gini Coefficient of Wealth Inequality"
   ]
  },
  {
   "cell_type": "code",
   "execution_count": 28,
   "metadata": {},
   "outputs": [],
   "source": [
    "# Calculate the time series of the Gini coffecient in order to \n",
    "# observe the evolution of the inequality of wealth among nominators\n",
    "# ->Input parameter:\n",
    "# wealth: t x n time series of matrix of the wealth of nominators \n",
    "# <-Output: \n",
    "# G: The time series of the Gini coefficient\n",
    "def Gini(wealth):\n",
    "    # Calculate the number of time periods\n",
    "    N_t = wealth.shape[0]\n",
    "    # Calculate the number of nominators and validators\n",
    "    N = wealth.shape[1]\n",
    "    # Preallocate the Gini coefficient time series vector\n",
    "    G = np.zeros((N_t,1))\n",
    "    # Calculate Gini coefficient for each time t\n",
    "    for i in range(0,wealth.shape[0]):\n",
    "        # Order wealth in ascending order\n",
    "        wealth[i,:] = np.sort(wealth[i,:])\n",
    "        # Calculate the rank\n",
    "        rank = np.arange(1,wealth[i,:].shape[0]+1)\n",
    "        G[i] = (np.sum((2*rank - N -1)*wealth[i,:]))/(N*np.sum(wealth[i,:]))\n",
    "    return G"
   ]
  },
  {
   "cell_type": "code",
   "execution_count": 29,
   "metadata": {},
   "outputs": [],
   "source": [
    "# Calculate the time series of the Gini Coefficient\n",
    "G = Gini(w)"
   ]
  },
  {
   "cell_type": "markdown",
   "metadata": {},
   "source": [
    "### 3.5. Import Data from the Previous Version"
   ]
  },
  {
   "cell_type": "code",
   "execution_count": 30,
   "metadata": {},
   "outputs": [],
   "source": [
    "x6 = np.loadtxt(\"x_v6.csv\", delimiter=\",\")\n",
    "r6 = np.loadtxt(\"r_v6.csv\", delimiter=\",\")\n",
    "I6 = np.loadtxt(\"I_v6.csv\", delimiter=\",\")\n",
    "G6 = np.loadtxt(\"G_v6.csv\", delimiter=\",\")"
   ]
  },
  {
   "cell_type": "markdown",
   "metadata": {},
   "source": [
    "### 3.6. Export Data"
   ]
  },
  {
   "cell_type": "code",
   "execution_count": 31,
   "metadata": {},
   "outputs": [],
   "source": [
    "# Export Data\n",
    "np.savetxt(\"x_v7.csv\", x, delimiter=\",\")\n",
    "np.savetxt(\"r_v7.csv\", r, delimiter=\",\")\n",
    "np.savetxt(\"G_v7.csv\", G, delimiter=\",\")\n",
    "np.savetxt(\"I_v7.csv\", I, delimiter=\",\")\n",
    "np.savetxt(\"Y_v7.csv\", Y, delimiter=\",\")\n",
    "np.savetxt(\"W_v7.csv\", W, delimiter=\",\")"
   ]
  },
  {
   "cell_type": "markdown",
   "metadata": {},
   "source": [
    "### 3.7. Summary Plots"
   ]
  },
  {
   "cell_type": "code",
   "execution_count": 32,
   "metadata": {},
   "outputs": [],
   "source": [
    "# summaryPlots function produces the time series plots \n",
    "# of the staking rate, interest rate, inflation rate and Gini coefficient\n",
    "def summaryPlots(t, x, x_pre, r, r_pre, I, I_pre, G, G_pre):\n",
    "    version = ['V6', 'V7']\n",
    "    plot_titles = ['Staking Rate', 'Annual Interest Rate','Annual Inflation Rate', 'Gini Coefficient for Wealth Inequality']\n",
    "    plot_variables1 = [x_pre, r_pre, I_pre, G_pre]\n",
    "    plot_variables2 = [x, r, I, G]\n",
    "    y_labels = ['Staking Rate: x(t)','Interest Rate: r(x(t))','Inflation Rate: I(x(t))','Gini Coefficient: G(t)']\n",
    "    for i in range(0,len(plot_titles)):\n",
    "        plt.figure(figsize=(12,6))\n",
    "        plt.plot(t, plot_variables1[i],\"-b\",linestyle='--', label=\"V6: Randomly Assigned Validators\")\n",
    "        plt.plot(t, plot_variables2[i],\"-r\",linestyle='-', label=\"V7: Sequential Phragmen\")\n",
    "        plt.legend(loc=\"best\",fontsize=10)\n",
    "        plt.title('NPoS Economics V7: ' + plot_titles[i],fontsize=16)\n",
    "        plt.xlabel('Number of Days: t',fontsize=16)\n",
    "        plt.ylabel(y_labels[i],fontsize=16)\n",
    "        plt.xticks(fontsize = 16)\n",
    "        plt.yticks(fontsize = 16)\n",
    "        plt.savefig(plot_titles[i] + '.pdf')"
   ]
  },
  {
   "cell_type": "code",
   "execution_count": 33,
   "metadata": {
    "scrolled": false
   },
   "outputs": [
    {
     "data": {
      "image/png": "[encoded data removed]",
      "text/plain": [
       "<matplotlib.figure.Figure at 0x111206f98>"
      ]
     },
     "metadata": {},
     "output_type": "display_data"
    },
    {
     "data": {
      "image/png": "[encoded data removed]",
      "text/plain": [
       "<matplotlib.figure.Figure at 0x1174f2b00>"
      ]
     },
     "metadata": {},
     "output_type": "display_data"
    },
    {
     "data": {
      "image/png": "[encoded data removed]",
      "text/plain": [
       "<matplotlib.figure.Figure at 0x11734ffd0>"
      ]
     },
     "metadata": {},
     "output_type": "display_data"
    },
    {
     "data": {
      "image/png": "[encoded data removed]",
      "text/plain": [
       "<matplotlib.figure.Figure at 0x69b66be10>"
      ]
     },
     "metadata": {},
     "output_type": "display_data"
    }
   ],
   "source": [
    "# Run the summary plots\n",
    "summaryPlots(t, x, x6[0:x.shape[0]], r, r6[0:x.shape[0]], I, I6[0:x.shape[0]], G, G6[0:x.shape[0]])"
   ]
  }
 ],
 "metadata": {
  "kernelspec": {
   "display_name": "Python 3",
   "language": "python",
   "name": "python3"
  },
  "language_info": {
   "codemirror_mode": {
    "name": "ipython",
    "version": 3
   },
   "file_extension": ".py",
   "mimetype": "text/x-python",
   "name": "python",
   "nbconvert_exporter": "python",
   "pygments_lexer": "ipython3",
   "version": "3.6.4"
  }
 },
 "nbformat": 4,
 "nbformat_minor": 2
}
